{
 "cells": [
  {
   "cell_type": "code",
   "execution_count": 34,
   "metadata": {},
   "outputs": [
    {
     "name": "stdout",
     "output_type": "stream",
     "text": [
      "Extracting MNIST_data/train-images-idx3-ubyte.gz\n",
      "Extracting MNIST_data/train-labels-idx1-ubyte.gz\n",
      "Extracting MNIST_data/t10k-images-idx3-ubyte.gz\n",
      "Extracting MNIST_data/t10k-labels-idx1-ubyte.gz\n"
     ]
    }
   ],
   "source": [
    "from tensorflow.examples.tutorials.mnist import input_data\n",
    "mnist = input_data.read_data_sets('MNIST_data',one_hot=True)\n",
    "import tensorflow as tf\n",
    "from tensorflow.python.framework import ops\n",
    "ops.reset_default_graph()\n",
    "sess = tf.Session()\n"
   ]
  },
  {
   "cell_type": "code",
   "execution_count": 36,
   "metadata": {},
   "outputs": [
    {
     "data": {
      "text/plain": [
       "\"                       \\n这里用2∗2的max_pool。参数ksize定义pool窗口的大小，每个维度的意义与之前的strides相同\\n第一个参数value：需要池化的输入，一般池化层接在卷积层后面，所以输入通常是feature map，依然是[batch, height, width, channels]这样的shape\\n第二个参数ksize：池化窗口的大小，取一个四维向量，一般是[1, height, width, 1]，因为我们不想在batch和channels上做池化，所以这两个维度设为了1\\n第三个参数strides：和卷积类似，窗口在每一个维度上滑动的步长，一般也是[1, stride,stride, 1]\\n第四个参数padding：和卷积类似，可以取'VALID' 或者'SAME'\\n返回一个Tensor，类型不变，shape仍然是[batch, height, width, channels]这种形式\\n这个函数的功能是将整个图片分割成2x2的块，\\n对每个块提取出最大值输出。可以理解为对整个图片做宽度减小一半，高度减小一半的降采样\\n\""
      ]
     },
     "execution_count": 36,
     "metadata": {},
     "output_type": "execute_result"
    }
   ],
   "source": [
    "# 卷积核参数\n",
    "def weight_variable(shape):\n",
    "    initial = tf.truncated_normal(shape,stddev=0.1) # 生成一个随机分布数\n",
    "    return tf.Variable(initial)\n",
    "\n",
    "#偏置量\n",
    "def bias_variable(shape):\n",
    "    initial = tf.constant(0.1,shape=shape)\n",
    "    return tf.Variable(initial)\n",
    "\n",
    "\"\"\"\n",
    "由于我们使用的是ReLU神经元，因此比较好的做法是用一个较小的正数来初始化偏置项，\n",
    "以避免神经元节点输出恒为0的问题（dead neurons）\n",
    "\"\"\"\n",
    "\"\"\"\n",
    "我们的卷积使用1步长（stride size），0边距（padding size）的模板\n",
    "保证输出和输入是同一个大小。我们的池化用简单传统的2x2大小的模板做max pooling\n",
    "\"\"\"\n",
    "def conv2d(x,W):\n",
    "    return tf.nn.conv2d(x,W,strides=[1,1,1,1],padding='SAME')\n",
    "\"\"\"\n",
    "1. x是输入的样本，在这里就是图像。x的shape=[batch, height, width, channels]。 \n",
    "- batch是输入样本的数量 \n",
    "- height, width是每张图像的高和宽 \n",
    "- channels是输入的通道，比如初始输入的图像是灰度图，那么channels=1，如果是rgb，那么channels=3。对于第二层卷积层，channels=32。 \n",
    "2. W表示卷积核的参数，shape的含义是[height,width,in_channels,out_channels]。 \n",
    "3. strides参数表示的是卷积核在输入x的各个维度下移动的步长。了解CNN的都知道，在宽和高方向stride的大小决定了卷积后图像的size。这里为什么有4个维度呢？因为strides对应的是输入x的维度，所以strides第一个参数表示在batch方向移动的步长，第四个参数表示在channels上移动的步长，这两个参数都设置为1就好。重点就是第二个，第三个参数的意义，也就是在height于width方向上的步长，这里也都设置为1。 \n",
    "4. padding参数用来控制图片的边距，’SAME’表示卷积后的图片与原图片大小相同，’VALID’的话卷积以后图像的高为Heightout=Height原图−Height卷积核+1StrideHeight， 宽也同理。\n",
    "\"\"\"\n",
    "def max_pool_2x2(x):\n",
    "    return tf.nn.max_pool(x,ksize=[1,2,2,1],\n",
    "                         strides=[1,2,2,1],padding='SAME')\n",
    "\"\"\"                       \n",
    "这里用2∗2的max_pool。参数ksize定义pool窗口的大小，每个维度的意义与之前的strides相同\n",
    "第一个参数value：需要池化的输入，一般池化层接在卷积层后面，所以输入通常是feature map，依然是[batch, height, width, channels]这样的shape\n",
    "第二个参数ksize：池化窗口的大小，取一个四维向量，一般是[1, height, width, 1]，因为我们不想在batch和channels上做池化，所以这两个维度设为了1\n",
    "第三个参数strides：和卷积类似，窗口在每一个维度上滑动的步长，一般也是[1, stride,stride, 1]\n",
    "第四个参数padding：和卷积类似，可以取'VALID' 或者'SAME'\n",
    "返回一个Tensor，类型不变，shape仍然是[batch, height, width, channels]这种形式\n",
    "这个函数的功能是将整个图片分割成2x2的块，\n",
    "对每个块提取出最大值输出。可以理解为对整个图片做宽度减小一半，高度减小一半的降采样\n",
    "\"\"\""
   ]
  },
  {
   "cell_type": "code",
   "execution_count": 37,
   "metadata": {},
   "outputs": [
    {
     "name": "stdout",
     "output_type": "stream",
     "text": [
      "Tensor(\"Reshape:0\", shape=(?, 28, 28, 1), dtype=float32)\n",
      "Tensor(\"Relu:0\", shape=(?, 28, 28, 32), dtype=float32)\n",
      "Tensor(\"MaxPool:0\", shape=(?, 14, 14, 32), dtype=float32)\n"
     ]
    }
   ],
   "source": [
    "# 卷积层1\n",
    "W_conv1 = weight_variable([5,5,1,32])\n",
    "b_conv1 = bias_variable([32])\n",
    "\"\"\"\n",
    "它由一个卷积接一个max pooling完成。卷积在每个5x5的patch中算出32个特征（理解为做了32次卷积，每次卷积中不同的神经元享有同样参数；但是不同次卷积所用的参数是不同的）。\n",
    "卷积的权重张量形状是[5, 5, 1, 32]，前两个维度是patch的大小，接着是输入的通道数目，\n",
    "最后是输出的通道数目。 而对于每一个输出通道都有一个对应的偏置量\n",
    "\"\"\"\n",
    "x = tf.placeholder(\"float\", shape=[None, 784])\n",
    "y_ = tf.placeholder(\"float\", shape=[None, 10])\n",
    "x_image = tf.reshape(x,[-1,28,28,1])\n",
    "print(x_image)\n",
    "\"\"\"\n",
    "为了用这一层，我们把x变成一个4d向量，其第2、第3维对应图片的宽、高，\n",
    "最后一维代表图片的颜色通道数(因为是灰度图所以这里的通道数为1，如果是rgb彩色图，则为3)\n",
    "第一维-1代表将x沿着最后一维进行变形\n",
    "\"\"\"\n",
    "h_conv1 = tf.nn.relu(conv2d(x_image,W_conv1)+b_conv1)\n",
    "print(h_conv1)\n",
    "h_pool1 = max_pool_2x2(h_conv1)\n",
    "print(h_pool1)"
   ]
  },
  {
   "cell_type": "code",
   "execution_count": 38,
   "metadata": {},
   "outputs": [
    {
     "name": "stdout",
     "output_type": "stream",
     "text": [
      "Tensor(\"Relu_1:0\", shape=(?, 14, 14, 64), dtype=float32)\n",
      "Tensor(\"MaxPool_1:0\", shape=(?, 7, 7, 64), dtype=float32)\n"
     ]
    }
   ],
   "source": [
    "#卷积层2\n",
    "W_conv2 = weight_variable([5,5,32,64])\n",
    "b_conv2 = bias_variable([64])\n",
    "\n",
    "h_conv2 = tf.nn.relu(conv2d(h_pool1,W_conv2)+b_conv2)\n",
    "print(h_conv2)\n",
    "h_pool2 = max_pool_2x2(h_conv2)\n",
    "print(h_pool2)\n",
    "sess.run(tf.initialize_all_variables())\n"
   ]
  },
  {
   "cell_type": "code",
   "execution_count": 39,
   "metadata": {},
   "outputs": [],
   "source": [
    "#全连接层\n",
    "\"\"\"\n",
    "现在，图片尺寸减小到7x7（pool两次，相当于降采样两次），我们加入一个有1024个神经元的全连接层，\n",
    "用于处理整个图片。我们把池化层输出的张量reshape成一些向量，乘上权重矩阵，加上偏置，\n",
    "然后对其使用ReLU\n",
    "\"\"\"\n",
    "W_fc1 = weight_variable([7*7*64,1024])\n",
    "b_fc1 = bias_variable([1024])\n",
    "\n",
    "h_pool2_flat = tf.reshape(h_pool2,[-1,7*7*64])\n",
    "h_fc1 = tf.nn.relu(tf.matmul(h_pool2_flat,W_fc1)+b_fc1)\n"
   ]
  },
  {
   "cell_type": "code",
   "execution_count": 40,
   "metadata": {},
   "outputs": [],
   "source": [
    "#dropout\n",
    "\"\"\"\n",
    "为了减少过拟合，我们在输出层之前加入dropout。\n",
    "我们用一个placeholder来代表一个神经元的输出在dropout中保持不变的概率。\n",
    "这样我们可以在训练过程中启用dropout，在测试过程中关闭dropout。 \n",
    "\n",
    "\n",
    "Dropout是指在模型训练时随机让网络某些隐含层节点的权重不工作，\n",
    "不工作的那些节点可以暂时认为不是网络结构的一部分，\n",
    "但是它的权重得保留下来（只是暂时不更新而已），\n",
    "因为下次样本输入时它可能又得工作了\n",
    "\"\"\"\n",
    "keep_prob = tf.placeholder(\"float\")\n",
    "h_fc1_drop = tf.nn.dropout(h_fc1,keep_prob)\n"
   ]
  },
  {
   "cell_type": "code",
   "execution_count": 41,
   "metadata": {},
   "outputs": [],
   "source": [
    "#输出层 变为10个神经元\n",
    "W_fc2 = weight_variable([1024,10])\n",
    "b_fc2 = bias_variable([10])\n",
    "y_conv = tf.nn.softmax(tf.matmul(h_fc1_drop,W_fc2)+b_fc2)\n"
   ]
  },
  {
   "cell_type": "code",
   "execution_count": 46,
   "metadata": {},
   "outputs": [
    {
     "name": "stdout",
     "output_type": "stream",
     "text": [
      "step:0,training accuracy:0.14\n",
      "step:100,training accuracy:0.84\n",
      "step:200,training accuracy:0.9\n",
      "step:300,training accuracy:0.9\n",
      "step:400,training accuracy:0.96\n",
      "step:500,training accuracy:0.94\n",
      "step:600,training accuracy:0.88\n",
      "step:700,training accuracy:0.96\n",
      "step:800,training accuracy:0.98\n",
      "step:900,training accuracy:0.94\n",
      "step:1000,training accuracy:0.94\n",
      "step:1100,training accuracy:0.98\n",
      "step:1200,training accuracy:0.98\n",
      "step:1300,training accuracy:0.98\n",
      "step:1400,training accuracy:0.96\n",
      "step:1500,training accuracy:0.96\n",
      "step:1600,training accuracy:0.96\n",
      "step:1700,training accuracy:1\n",
      "step:1800,training accuracy:0.98\n",
      "step:1900,training accuracy:0.94\n",
      "step:2000,training accuracy:1\n",
      "step:2100,training accuracy:0.98\n",
      "step:2200,training accuracy:1\n",
      "step:2300,training accuracy:0.96\n",
      "step:2400,training accuracy:0.94\n",
      "step:2500,training accuracy:0.98\n",
      "step:2600,training accuracy:1\n",
      "step:2700,training accuracy:1\n",
      "step:2800,training accuracy:0.9\n",
      "step:2900,training accuracy:0.98\n",
      "test accuracy 0.9785\n"
     ]
    }
   ],
   "source": [
    "#train gradies\n",
    "cross_entropy = -tf.reduce_sum(y_*tf.log(y_conv))\n",
    "train_step = tf.train.AdamOptimizer(1e-4).minimize(cross_entropy)\n",
    "correct_prediction = tf.equal(tf.argmax(y_conv,1),tf.argmax(y_,1))\n",
    "accuracy = tf.reduce_mean(tf.cast(correct_prediction,\"float\"))\n",
    "sess.run(tf.global_variables_initializer())\n",
    "for i in range(3000):\n",
    "    batch = mnist.train.next_batch(50)\n",
    "    if i % 100 == 0:\n",
    "        train_accuracy = accuracy.eval(feed_dict={x:batch[0], y_: batch[1], keep_prob: 1.0},session=sess)\n",
    "        print(\"step:%d,training accuracy:%g\" % (i,train_accuracy))\n",
    "    train_step.run(feed_dict={x: batch[0],y_: batch[1],keep_prob: 0.5},session=sess)\n",
    "print(\"test accuracy %g\" % accuracy.eval(feed_dict={ x: mnist.test.images, y_: mnist.test.labels, keep_prob: 1.0},session=sess))\n",
    "\n"
   ]
  },
  {
   "cell_type": "code",
   "execution_count": null,
   "metadata": {},
   "outputs": [],
   "source": []
  }
 ],
 "metadata": {
  "kernelspec": {
   "display_name": "Python 3",
   "language": "python",
   "name": "python3"
  },
  "language_info": {
   "codemirror_mode": {
    "name": "ipython",
    "version": 3
   },
   "file_extension": ".py",
   "mimetype": "text/x-python",
   "name": "python",
   "nbconvert_exporter": "python",
   "pygments_lexer": "ipython3",
   "version": "3.6.3"
  }
 },
 "nbformat": 4,
 "nbformat_minor": 2
}
