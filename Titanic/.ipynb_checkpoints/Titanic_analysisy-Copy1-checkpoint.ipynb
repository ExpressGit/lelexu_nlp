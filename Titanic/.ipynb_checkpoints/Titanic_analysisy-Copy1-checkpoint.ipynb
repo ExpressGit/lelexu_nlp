{
 "cells": [
  {
   "cell_type": "code",
   "execution_count": null,
   "metadata": {
    "collapsed": true
   },
   "outputs": [],
   "source": [
    "#coding:utf-8\n",
    "import os\n",
    "import pandas as pd #数据分析\n",
    "import numpy as np # 科学计算\n",
    "from pandas import Series,DataFrame\n",
    "import matplotlib.pyplot as plt\n",
    "import matplotlib.pyplot as plt # 引入matplotlib包\n",
    "plt.rcParams['font.sans-serif']=['SimHei']# 设置加载的字体名\n",
    "plt.rcParams['axes.unicode_minus']=False #解决保存图像是负号'-'显示为方块的问题"
   ]
  },
  {
   "cell_type": "code",
   "execution_count": null,
   "metadata": {},
   "outputs": [],
   "source": [
    "data_train = pd.read_csv(\"data/Titanic/Train.csv\")\n",
    "# 数据整体的情况\n",
    "# print(data_train.info())\n",
    "# 查看数值分布情况\n",
    "# print(data_train.describe())\n",
    "\n",
    "#图形化分析\n",
    "fig = plt.figure()\n",
    "fig.set(alpha=0.2)\n",
    "\n",
    "plt.subplot2grid((2,3),(0,0))\n",
    "data_train.Survived.value_counts().plot(kind='bar')\n",
    "plt.title(u\"获奖情况（1为获救）\")\n",
    "plt.ylabel(u\"人数\")\n",
    "\n",
    "plt.subplot2grid((2,3),(0,1))\n",
    "data_train.Pclass.value_counts().plot(kind=\"bar\")\n",
    "plt.ylabel(u\"人数\")\n",
    "plt.title(u\"乘客等级分布\")\n",
    "\n",
    "plt.subplot2grid((2,3),(0,2))\n",
    "plt.scatter(data_train.Survived,data_train.Age)\n",
    "plt.ylabel(u\"年龄\")\n",
    "plt.grid(b=True,which='major',axis='y')\n",
    "plt.title(u\"按年龄看获救分布\")\n",
    "\n",
    "plt.subplot2grid((2,3),(1,0),colspan=2)\n",
    "data_train.Age[data_train.Pclass==1].plot(kind='kde')\n",
    "data_train.Age[data_train.Pclass==2].plot(kind='kde')\n",
    "data_train.Age[data_train.Pclass==3].plot(kind='kde')\n",
    "plt.xlabel(u\"年龄\")\n",
    "plt.ylabel(u\"密度\")\n",
    "plt.title(u\"各等级的乘客的年龄分布\")\n",
    "plt.legend((u\"头等舱\",u\"2等舱\",u\"3等舱\"),loc='best')\n",
    "\n",
    "plt.subplot2grid((2,3),(1,2))\n",
    "data_train.Embarked.value_counts().plot(kind='bar')\n",
    "plt.title(u\"各等船口岸上船人数\")\n",
    "plt.ylabel(u\"人数\")\n",
    "plt.show()"
   ]
  },
  {
   "cell_type": "code",
   "execution_count": null,
   "metadata": {},
   "outputs": [],
   "source": [
    "#看看各乘客等级的获救情况\n",
    "fig = plt.figure()\n",
    "fig.set(alpha=0.2)  # 设定图表颜色alpha参数\n",
    "\n",
    "Survived_0 = data_train.Pclass[data_train.Survived == 0].value_counts()\n",
    "Survived_1 = data_train.Pclass[data_train.Survived == 1].value_counts()\n",
    "df=pd.DataFrame({u'获救':Survived_1, u'未获救':Survived_0})\n",
    "df.plot(kind='bar', stacked=True)\n",
    "plt.title(u\"各乘客等级的获救情况\")\n",
    "plt.xlabel(u\"乘客等级\") \n",
    "plt.ylabel(u\"人数\") \n",
    "plt.show()"
   ]
  }
 ],
 "metadata": {
  "kernelspec": {
   "display_name": "Python 3",
   "language": "python",
   "name": "python3"
  },
  "language_info": {
   "codemirror_mode": {
    "name": "ipython",
    "version": 3
   },
   "file_extension": ".py",
   "mimetype": "text/x-python",
   "name": "python",
   "nbconvert_exporter": "python",
   "pygments_lexer": "ipython3",
   "version": "3.6.3"
  }
 },
 "nbformat": 4,
 "nbformat_minor": 1
}
